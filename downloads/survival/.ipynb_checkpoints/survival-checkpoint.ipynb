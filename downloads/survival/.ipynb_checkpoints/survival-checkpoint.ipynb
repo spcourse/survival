{
 "cells": [
  {
   "cell_type": "markdown",
   "metadata": {
    "deletable": false,
    "nbgrader": {
     "checksum": "096711a16b266fd1de2fe41323425a74",
     "grade": false,
     "grade_id": "cell-26f07fe0a316b586",
     "locked": true,
     "schema_version": 3,
     "solution": false,
     "task": false
    }
   },
   "source": [
    "# Survival\n",
    "\n",
    "One of the challenges for this exercise is to find the information you need yourself. You will have to use a library for data visualization called *Seaborn*. For each exercise you should try to find in the [documentation](https://seaborn.pydata.org/api.html#) which function you can use and how to use it. The Seaborn website also contains a [tutorial](https://seaborn.pydata.org/tutorial.html) that provides you with a quick overview of the things that are possible in Seaborn, and also shows you how to use its functions.\n",
    "\n",
    "The exercises below are all inspired by reasearch in different fields of biology. Most `seaborn` functions are built to utilize `pandas`'s `DataFrame` and `Series` structures. As such, you should try to use them as much as possible! \n",
    "\n",
    "Before you start, first load the required libraries below. "
   ]
  },
  {
   "cell_type": "code",
   "execution_count": null,
   "metadata": {
    "deletable": false,
    "nbgrader": {
     "checksum": "263ece343db13c2f68743c77dc6dac15",
     "grade": false,
     "grade_id": "cell-2ae9a981f183f3cd",
     "locked": true,
     "schema_version": 3,
     "solution": false,
     "task": false
    }
   },
   "outputs": [],
   "source": [
    "import pandas as pd\n",
    "import seaborn as sns\n",
    "import matplotlib.pyplot as plt\n",
    "import numpy as np\n",
    "\n",
    "sns.set(style=\"darkgrid\")"
   ]
  },
  {
   "cell_type": "markdown",
   "metadata": {
    "deletable": false,
    "nbgrader": {
     "checksum": "c474309178b413f8fa2ae2b8008438f9",
     "grade": false,
     "grade_id": "cell-64c2e554af04f342",
     "locked": true,
     "schema_version": 3,
     "solution": false,
     "task": false
    }
   },
   "source": [
    "# 1. Mass vs Metabolism\n",
    "(adapted from [Data Carpentry for Biologists](https://datacarpentry.org/semester-biology/))\n",
    "\n",
    "The relationship between the body size of an organism and its metabolic rate is one of the most well studied and still most controversial areas of organismal physiology. We want to graph this relationship in the [Artiodactyl](https://en.wikipedia.org/wiki/Even-toed_ungulate) using a subset of data from a large compilation of body size data (Savage et al. 2004):"
   ]
  },
  {
   "cell_type": "code",
   "execution_count": null,
   "metadata": {
    "deletable": false,
    "nbgrader": {
     "checksum": "95eae20a8fd0926ec823ea757f917f53",
     "grade": false,
     "grade_id": "cell-f45c392cc928979f",
     "locked": true,
     "schema_version": 3,
     "solution": false,
     "task": false
    }
   },
   "outputs": [],
   "source": [
    "body_mass = [32000, 37800, 347000, 4200, 196500, 100000, 4290, \n",
    "32000, 65000, 69125, 9600, 133300, 150000, 407000, 115000, 67000, \n",
    "325000, 21500, 58588, 65320, 85000, 135000, 20500, 1613, 1618]\n",
    "\n",
    "metabolic_rate = [49.984, 51.981, 306.770, 10.075, 230.073, \n",
    "148.949, 11.966, 46.414, 123.287, 106.663, 20.619, 180.150, \n",
    "200.830, 224.779, 148.940, 112.430, 286.847, 46.347, 142.863, \n",
    "106.670, 119.660, 104.150, 33.165, 4.900, 4.865]"
   ]
  },
  {
   "cell_type": "markdown",
   "metadata": {},
   "source": [
    "### Exercises\n",
    "\n",
    "- 1.1 Create a `DataFrame` from these two lists and make a plot for body mass vs. metabolic rate.\n",
    "- 1.2 Create a second plot for log(body mass) vs. log(metabolic rate). To set a log scale for both axes use:\n",
    "\n",
    "```\n",
    "ax = plt.gca()\n",
    "ax.set(xscale=\"log\", yscale=\"log\")\n",
    "```\n",
    "\n",
    "> Think about what the shape of these graphs tells you about the relationship between mass and metabolic rate."
   ]
  },
  {
   "cell_type": "code",
   "execution_count": null,
   "metadata": {
    "deletable": false,
    "nbgrader": {
     "checksum": "38acb4b154e0c3dfdfa050c15310cd57",
     "grade": true,
     "grade_id": "cell-a1d05a02bdbb70b4",
     "locked": false,
     "points": 1,
     "schema_version": 3,
     "solution": true,
     "task": false
    }
   },
   "outputs": [],
   "source": [
    "### YOUR CODE HERE\n"
   ]
  },
  {
   "cell_type": "markdown",
   "metadata": {
    "deletable": false,
    "nbgrader": {
     "checksum": "bf7b0ebad0e60f60335a8b173bc09fc2",
     "grade": false,
     "grade_id": "cell-d1b063ab1e727ad8",
     "locked": true,
     "schema_version": 3,
     "solution": false,
     "task": false
    }
   },
   "source": [
    "# 2. Shrub Volume\n",
    "\n",
    "Dr. Granger is interested in studying the factors controlling the size and carbon storage of shrubs. This research is part of a larger area of research trying to understand carbon storage by plants. She has conducted a small preliminary experiment looking at the effect of three different treatments on shrub volume at four different locations. She wants to conduct a preliminary analysis of these data to include in a grant proposal and she would like you to conduct the analysis for her (she might be a world renowned expert in carbon storage in plants, but she sure doesn’t know much about computers). The data is included in the assignment files and loaded in the code in the cell below.\n",
    "\n",
    "### Exercises:\n",
    "\n",
    "- 2.1 Import the data using Pandas and print out the first few rows of the data using the `.head()` method.\n",
    "- 2.2 Select the data from the length column and print it.\n",
    "- 2.3 Multiply the length, width, and height columns together to get a `volume` `Series`, add it to the `DataFrame` with an appropriate column name, and print the first few rows.\n",
    "- 2.4 Add a `carbon` column containing the shrub carbon storage given by the equation `1.8 + 2 * np.log(volume)` where `volume` is the volume of the shrub you have calculated in 2.3. Try to think of a way to do this without a loop (for a hint, look back at the pandas exercises!).\n",
    "- 2.5 Select the height data for all of the plants with heights greater than 5 and print out the result.\n",
    "- 2.6 The following code displays the average height of a plant at each site:\n",
    "```\n",
    "data_means = data.groupby('site').mean()\n",
    "print(data_means['height'])\n",
    "```\n",
    "Modify the code to calculate the average height of a plant in each experiment type.\n",
    "- 2.7 Calculate the maximum heights of the plants at each site and print it out.\n",
    "- 2.8 Using Seaborn, create a [barplot](https://seaborn.pydata.org/generated/seaborn.barplot.html) showing the average carbon storage per experiment. Note that you do **not** have to use `groupby()` here, as Seaborn does it for you automatically when creating a barplot!"
   ]
  },
  {
   "cell_type": "code",
   "execution_count": null,
   "metadata": {
    "deletable": false,
    "nbgrader": {
     "checksum": "431d8522e22b41331d147dc6e567e5d7",
     "grade": true,
     "grade_id": "cell-f61ad31a1ca39a62",
     "locked": false,
     "points": 1,
     "schema_version": 3,
     "solution": true,
     "task": false
    }
   },
   "outputs": [],
   "source": [
    "df_shrubs = pd.read_csv('data/shrub-volume-data.csv')\n",
    "\n",
    "### YOUR CODE HERE\n"
   ]
  },
  {
   "cell_type": "markdown",
   "metadata": {
    "deletable": false,
    "nbgrader": {
     "checksum": "4228d4ba0564fba467a1b05e88d46d73",
     "grade": false,
     "grade_id": "cell-5a4b23b18af746cf",
     "locked": true,
     "schema_version": 3,
     "solution": false,
     "task": false
    }
   },
   "source": [
    "# 3. Adult vs Newborn Size\n",
    "(adapted from [Data Carpentry for Biologists](https://datacarpentry.org/semester-biology/)) \n",
    "\n",
    "It makes sense that larger organisms have larger offspring, but what the mathematical form of this relationship should be is unclear. Let’s look at the problem empirically for mammals.\n",
    "\n",
    "Import the mammal-data (`'data/mammal_lifehistories.tsv'`) into a Pandas `DataFrame`.\n",
    "\n",
    "Import the data into Python. If you’ve looked at a lot of data you’ll realize that this dataset is tab delimited. The special character to indicate a tab in Python is `'\\t'`.\n",
    "\n",
    "Missing data in this file is specified by `-999` and `-999.00`. Tell Pandas that these are null values using the following optional `read_csv()` argument: `na_values=['-999', '-999.00']`. This will stop them from being plotted.\n",
    "\n",
    "There are some extra blank lines at the end of this file, so get rid of them. You can use array slicing for this.\n",
    "\n",
    "### Exercises\n",
    "\n",
    "- 3.1 Graph adult mass vs. newborn mass. Don't forget to label the axes!\n",
    "- 3.2 Graph the log of adult mass vs. the log of newborn mass. Don't forget to label the axes!\n",
    "- 3.3 For data where `order` is `'Rodentia'`, graph the log of adult mass vs. the log of newborn mass. Label the axes."
   ]
  },
  {
   "cell_type": "code",
   "execution_count": null,
   "metadata": {
    "deletable": false,
    "nbgrader": {
     "checksum": "7e06dfd1b632c5a652addf6cc6c5b5ff",
     "grade": true,
     "grade_id": "cell-a18eda419a44e9e1",
     "locked": false,
     "points": 1,
     "schema_version": 3,
     "solution": true,
     "task": false
    }
   },
   "outputs": [],
   "source": [
    "### YOUR CODE HERE\n"
   ]
  },
  {
   "cell_type": "markdown",
   "metadata": {
    "deletable": false,
    "nbgrader": {
     "checksum": "95b0d267eafc04bc09e9863e91ea77e6",
     "grade": false,
     "grade_id": "cell-230d2a81141db3ec",
     "locked": true,
     "schema_version": 3,
     "solution": false,
     "task": false
    }
   },
   "source": [
    "# 4. Mammal Body Size\n",
    "(adapted from [Data Carpentry for Biologists](https://datacarpentry.org/semester-biology/))\n",
    "\n",
    "There were a relatively large number of extinctions of mammalian species roughly 10,000 years ago. To help understand why these extinctions happened scientists are interested in understanding whether there were differences in the body size of those species that went extinct and those that did not.\n",
    "\n",
    "The dataset `'data/mammal.tsv'` is the largest dataset on mammalian body size in the world. This dataset has data on the mass of recently extinct mammals as well as extant mammals (i.e., those that are still alive today). Take a look at the [original dataset's metadata](https://web.archive.org/web/20191219110715/http://www.esapubs.org/archive/ecol/E084/094/metadata.htm) to understand the structure of the data. One key thing to remember is that species can occur on more than one continent, and if they do then they will occur more than once in this dataset. \n",
    "\n",
    "The data also contains entries marked as *historical*, those can be considered *extinct*. It also containse entries marked *introduction*, those can be considered *extant*. You can use the pandas method `replace()` to change those values in your `DataFrame`.\n",
    "\n",
    "Let’s explore the data.\n",
    "\n",
    "### Exercises\n",
    "\n",
    "- 4.1 Determine the number of species. Remember that a species is uniquely defined by the combination of its genus name and its species name. Print the result to the screen. The number should be somewhere between 4000 and 5000.\n",
    "- 4.2 Find out how many of the species are extinct and how many are extant, print the result to the screen. **HINT:** first separate the data into the extinct and extant components and then count the number of species.\n",
    "- 4.3 Find out how many families are present in the dataset.\n",
    "- 4.4 Now print the genus name, the species name, and the mass of the largest and smallest species. Note that it is not possible for a mammal to have negative mass. \n",
    "- 4.5 Create a plot that shows the average body size for extinct species versus extant species. Make sure that is directly clear from the plot which is which. What kind of plot should you use here?\n"
   ]
  },
  {
   "cell_type": "code",
   "execution_count": null,
   "metadata": {
    "deletable": false,
    "nbgrader": {
     "checksum": "ffd1d4e18a2f0670fbeff3354a5c17e5",
     "grade": true,
     "grade_id": "cell-a1f1a110d82ec312",
     "locked": false,
     "points": 1,
     "schema_version": 3,
     "solution": true,
     "task": false
    }
   },
   "outputs": [],
   "source": [
    "### YOUR CODE HERE\n"
   ]
  },
  {
   "cell_type": "markdown",
   "metadata": {},
   "source": [
    "Looking at the average mass of extinct and extant species overall is interesting, but there are lots of different processes that could cause size-biased extinctions so it’s not as informative as we might like. However, if we see the exact same pattern on each of the different continents that might really tell us that there was some worldwide event. Repeat the analysis of before, but this time compare the mean masses within each of the different continents. \n",
    "\n",
    "The continent labels in the data are not very consistent in the data. For example `AUS`, `OC`, and `Oceanic` can all be merged. Try to find logical combinations, if you cannot, create a seperate category. It is important to clean this up for this assignment. Again, you can use `replace()` for this.\n",
    "\n",
    "Try to make the code as clean as possible! There is no need to copy and paste the same code for each of the categories!\n",
    "\n",
    "### Exercises\n",
    "\n",
    "- 4.6 Create one barplot per continent where you show the average mass of the extant and extinct species on that continent. Also print the difference between the average extant and average extinct masses for each of the continents AF, AUS, EA and SA."
   ]
  },
  {
   "cell_type": "code",
   "execution_count": null,
   "metadata": {
    "deletable": false,
    "nbgrader": {
     "checksum": "f23b057f744bcb5b4a46a599ac1a7f92",
     "grade": true,
     "grade_id": "cell-8d499e3792ffd728",
     "locked": false,
     "points": 1,
     "schema_version": 3,
     "solution": true,
     "task": false
    }
   },
   "outputs": [],
   "source": [
    "### YOUR CODE HERE\n"
   ]
  },
  {
   "cell_type": "markdown",
   "metadata": {},
   "source": [
    "We have previously compared the average masses of extant and extinct species on different continents to try to understand whether size has an influence on extinction in mammals. Looking at the averages was a good start, but we really need to look at the full distributions of masses of the two groups to get the best picture of whether or not there was a major size bias in extinctions during the late Pleistocene. \n",
    "\n",
    "\n",
    "### Exercises\n",
    "\n",
    "\n",
    "- 4.7 Make a plot for each continent that you think is worth visualizing. Each plot should contain two histograms that display the number of extinct and extant species. Take a look at [this page from the tutorial](https://seaborn.pydata.org/tutorial/distributions.html) to see how you can easily plot these distributions. Use the log(mass) rather than the mass itself so that you can see the form of the distributions more clearly. Label the axes appropriately.\n",
    "\n",
    "    Example of what *one* such a plot _could_ look like:\n",
    "\n",
    "    <img src=\"data/log mass dist SA.png\"></img>\n",
    "    \n",
    "Sidenote: Histogram refers to a graphical representation that displays data by way of bars to show the distribution of numerical data. A barplot is a representation of data that uses bars to compare different categories of data. In other words, a histogram presents numerical data whereas a barplot shows categorical data. [This website](https://keydifferences.com/difference-between-histogram-and-bar-graph.html) gives a more comprehensive list of differences (it also lists visual differences and why these are present)."
   ]
  },
  {
   "cell_type": "code",
   "execution_count": null,
   "metadata": {
    "deletable": false,
    "nbgrader": {
     "checksum": "b2b6bac98232f746c9386df6e43ad586",
     "grade": true,
     "grade_id": "cell-cad1c51fe5ef6b10",
     "locked": false,
     "points": 1,
     "schema_version": 3,
     "solution": true,
     "task": false
    }
   },
   "outputs": [],
   "source": [
    "### YOUR CODE HERE\n"
   ]
  },
  {
   "cell_type": "markdown",
   "metadata": {
    "deletable": false,
    "nbgrader": {
     "checksum": "a8ff685876165b7d28d8c01d29a2f4da",
     "grade": false,
     "grade_id": "cell-ffafba54f1e69b5c",
     "locked": true,
     "schema_version": 3,
     "solution": false,
     "task": false
    }
   },
   "source": [
    "# 5 Mushrooms\n",
    "\n",
    "For this last exercise we're going to work with a dataset on mushrooms. More information on the dataset, take a look at [the webpage of the original study that is the source of this dataset](http://archive.ics.uci.edu/ml/datasets/Mushroom).  Again, the data is included into the package of this exercise; read the data from `'data/mushrooms.csv'` into a Pandas `DataFrame`. \n",
    "\n",
    "The dataset contains an annotated collection of edible and poisonous mushrooms. The ediblity is related to many other properties, like the odor of the mushroom, the cap shape, the cap color, etc.\n",
    "\n",
    "This exercise requires a bit more creativity than before. It is up to you to figure out how to go about answering the following questions.\n",
    "\n",
    "### Exercises\n",
    "\n",
    "- 5.1 Download and explore the dataset. Generate a histogram that shows the relation between *cap shape* and edibility. This graph should at least give an answer to the following questions: Is a mushroom with a bell shape more often poisonous or edible? What about a mushroom that is knobbed? \n",
    "\n",
    "To aid you in understanding the dataset, we've already included some code that will make the dataframe more readable. "
   ]
  },
  {
   "cell_type": "code",
   "execution_count": null,
   "metadata": {
    "deletable": false,
    "nbgrader": {
     "checksum": "1fb0f5e2d1cc879f3f260b56f37e489e",
     "grade": true,
     "grade_id": "cell-be209790c5edcba6",
     "locked": false,
     "points": 1,
     "schema_version": 3,
     "solution": true,
     "task": false
    }
   },
   "outputs": [],
   "source": [
    "nested_value_dict = {'class': {'p': 'poisonous', 'e': 'edible'}\n",
    "     , 'cap-shape': {'b': 'bell', 'c': 'conical', 'x': 'convex', 'f': 'flat', 'k': 'knobbed', 's': 'sunken'}\n",
    "     , 'cap-surface': {'f': 'fibrous', 'g': 'grooves', 'y': 'scaly', 's': 'smooth'}\n",
    "     , 'cap-color': {'n': 'brown', 'b': 'buff', 'c': 'cinnamon', 'g': 'gray', 'r': 'green', 'p': 'pink', 'u': 'purple', 'e': 'red', 'w': 'white', 'y': 'yellow'}\n",
    "     , 'bruises': {'t': 'bruises', 'f': 'no'}\n",
    "     , 'odor': {'a': 'almond', 'l': 'anise', 'c': 'creosote', 'y': 'fishy', 'f': 'foul', 'm': 'musty', 'n': 'none', 'p': 'pungent', 's': 'spicy'}\n",
    "     , 'gill-attachment': {'a': 'attached', 'd': 'descending', 'f': 'free', 'n': 'notched'}\n",
    "     , 'gill-spacing': {'c': 'close', 'w': 'crowded', 'd': 'distant'}\n",
    "     , 'gill-size': {'b': 'broad', 'n': 'narrow'}\n",
    "     , 'gill-color': {'k': 'black', 'n': 'brown', 'b': 'buff', 'h': 'chocolate', 'g': 'gray', 'r': 'green', 'o': 'orange', 'p': 'pink', 'u': 'purple', 'e': 'red', 'w': 'white', 'y': 'yellow'}\n",
    "     , 'stalk-shape': {'e': 'enlarging', 't': 'tapering'}\n",
    "     , 'stalk-root': {'b': 'bulbous', 'c': 'club', 'u': 'cup', 'e': 'equal', 'z': 'rhizomorphs', 'r': 'rooted', '?': 'missing'}\n",
    "     , 'stalk-surface-above-ring': {'f': 'fibrous', 'y': 'scaly', 'k': 'silky', 's': 'smooth'}\n",
    "     , 'stalk-surface-below-ring': {'f': 'fibrous', 'y': 'scaly', 'k': 'silky', 's': 'smooth'}\n",
    "     , 'stalk-color-above-ring': {'n': 'brown', 'b': 'buff', 'c': 'cinnamon', 'g': 'gray', 'o': 'orange', 'p': 'pink', 'e': 'red', 'w': 'white', 'y': 'yellow'}\n",
    "     , 'stalk-color-below-ring': {'n': 'brown', 'b': 'buff', 'c': 'cinnamon', 'g': 'gray', 'o': 'orange', 'p': 'pink', 'e': 'red', 'w': 'white', 'y': 'yellow'}\n",
    "     , 'veil-type': {'p': 'partial', 'u': 'universal'}, 'veil-color': {'n': 'brown', 'o': 'orange', 'w': 'white', 'y': 'yellow'}\n",
    "     , 'ring-number': {'n': 'none', 'o': 'one', 't': 'two'}\n",
    "     , 'ring-type': {'c': 'cobwebby', 'e': 'evanescent', 'f': 'flaring', 'l': 'large', 'n': 'none', 'p': 'pendant', 's': 'sheathing', 'z': 'zone'}\n",
    "     , 'spore-print-color': {'k': 'black', 'n': 'brown', 'b': 'buff', 'h': 'chocolate', 'r': 'green', 'o': 'orange', 'u': 'purple', 'w': 'white', 'y': 'yellow'}\n",
    "     , 'population': {'a': 'abundant', 'c': 'clustered', 'n': 'numerous', 's': 'scattered', 'v': 'several', 'y': 'solitary'}\n",
    "     , 'habitat': {'g': 'grasses', 'l': 'leaves', 'm': 'meadows', 'p': 'paths', 'u': 'urban', 'w': 'waste', 'd': 'woods'}}\n",
    "\n",
    "df_mushroom = pd.read_csv('data/mushrooms.csv')\n",
    "df_mushroom = df_mushroom.replace(nested_value_dict)\n",
    "\n",
    "### YOUR CODE HERE\n"
   ]
  },
  {
   "cell_type": "markdown",
   "metadata": {
    "deletable": false,
    "nbgrader": {
     "checksum": "7f1ec4aea869bb16af940940d7e9173a",
     "grade": false,
     "grade_id": "cell-80081cc78f5ac81c",
     "locked": true,
     "schema_version": 3,
     "solution": false,
     "task": false
    }
   },
   "source": [
    "Let's say you want to give a friend some advice on picking mushrooms. You would like this friend to live so you have to find a description that garantees the mushroom to be edible. For example, all mushrooms with a sunken cap shape are edible.\n",
    "\n",
    "The problem with that description is that there are very few mushrooms that fit it. \n",
    "\n",
    "### Exercises\n",
    "\n",
    "- 5.2 Find a description that describes as many edible mushrooms as possible without also describing poisonous mushrooms. \n",
    "\n",
    "    **HINT:** Besides cap shape, there are other properties of mushrooms that have unique values that can only occur within edible (or inedible) mushrooms. Maybe we can even make combinations of properties of which we know that mushrooms that have or don't have those properties must be edible. \n",
    "\n",
    "    Note that there is not a single correct answer. The answer depends on how complex you allow the description to be. It is up to you to make a sensible and *reasonable* choice here. We are more interested in the way you get to an answer than the answer itself, so **include graphs and comments that explain your choices**.\n",
    "    \n",
    "    \n",
    "> Hopefully needless to say, but **don't try out this strategy for finding edible mushrooms in real life!**."
   ]
  },
  {
   "cell_type": "code",
   "execution_count": null,
   "metadata": {
    "deletable": false,
    "nbgrader": {
     "checksum": "48f059c4176842894ec9be7d019d8c5c",
     "grade": true,
     "grade_id": "cell-6cf9d6edb30dbbdf",
     "locked": false,
     "points": 1,
     "schema_version": 3,
     "solution": true,
     "task": false
    }
   },
   "outputs": [],
   "source": [
    "### YOUR CODE HERE\n"
   ]
  }
 ],
 "metadata": {
  "celltoolbar": "Edit Metadata",
  "kernelspec": {
   "display_name": "Python 3 (ipykernel)",
   "language": "python",
   "name": "python3"
  },
  "language_info": {
   "codemirror_mode": {
    "name": "ipython",
    "version": 3
   },
   "file_extension": ".py",
   "mimetype": "text/x-python",
   "name": "python",
   "nbconvert_exporter": "python",
   "pygments_lexer": "ipython3",
   "version": "3.7.11"
  }
 },
 "nbformat": 4,
 "nbformat_minor": 2
}
